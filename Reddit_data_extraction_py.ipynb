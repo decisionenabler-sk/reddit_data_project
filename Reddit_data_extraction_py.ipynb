{
  "nbformat": 4,
  "nbformat_minor": 0,
  "metadata": {
    "colab": {
      "provenance": [],
      "authorship_tag": "ABX9TyOhxbVQjPAdxrJOjp7td1zd"
    },
    "kernelspec": {
      "name": "python3",
      "display_name": "Python 3"
    },
    "language_info": {
      "name": "python"
    }
  },
  "cells": [
    {
      "cell_type": "code",
      "execution_count": 3,
      "metadata": {
        "colab": {
          "base_uri": "https://localhost:8080/"
        },
        "id": "ZxdGYw7d6uIL",
        "outputId": "19043dd8-d67d-4a22-ca3c-6c79d2b53375"
      },
      "outputs": [
        {
          "output_type": "stream",
          "name": "stdout",
          "text": [
            "Looking in indexes: https://pypi.org/simple, https://us-python.pkg.dev/colab-wheels/public/simple/\n",
            "Collecting praw\n",
            "  Downloading praw-7.7.0-py3-none-any.whl (189 kB)\n",
            "\u001b[2K     \u001b[90m━━━━━━━━━━━━━━━━━━━━━━━━━━━━━━━━━━━━━━━\u001b[0m \u001b[32m189.4/189.4 kB\u001b[0m \u001b[31m9.1 MB/s\u001b[0m eta \u001b[36m0:00:00\u001b[0m\n",
            "\u001b[?25hCollecting prawcore<3,>=2.1 (from praw)\n",
            "  Downloading prawcore-2.3.0-py3-none-any.whl (16 kB)\n",
            "Collecting update-checker>=0.18 (from praw)\n",
            "  Downloading update_checker-0.18.0-py3-none-any.whl (7.0 kB)\n",
            "Requirement already satisfied: websocket-client>=0.54.0 in /usr/local/lib/python3.10/dist-packages (from praw) (1.5.1)\n",
            "Requirement already satisfied: requests<3.0,>=2.6.0 in /usr/local/lib/python3.10/dist-packages (from prawcore<3,>=2.1->praw) (2.27.1)\n",
            "Requirement already satisfied: urllib3<1.27,>=1.21.1 in /usr/local/lib/python3.10/dist-packages (from requests<3.0,>=2.6.0->prawcore<3,>=2.1->praw) (1.26.15)\n",
            "Requirement already satisfied: certifi>=2017.4.17 in /usr/local/lib/python3.10/dist-packages (from requests<3.0,>=2.6.0->prawcore<3,>=2.1->praw) (2022.12.7)\n",
            "Requirement already satisfied: charset-normalizer~=2.0.0 in /usr/local/lib/python3.10/dist-packages (from requests<3.0,>=2.6.0->prawcore<3,>=2.1->praw) (2.0.12)\n",
            "Requirement already satisfied: idna<4,>=2.5 in /usr/local/lib/python3.10/dist-packages (from requests<3.0,>=2.6.0->prawcore<3,>=2.1->praw) (3.4)\n",
            "Installing collected packages: update-checker, prawcore, praw\n",
            "Successfully installed praw-7.7.0 prawcore-2.3.0 update-checker-0.18.0\n"
          ]
        }
      ],
      "source": [
        "!pip install praw\n",
        "import praw\n"
      ]
    },
    {
      "cell_type": "code",
      "source": [
        "\n",
        "# Authenticate your script using your Reddit app credentials\n",
        "reddit = praw.Reddit(\n",
        "    client_id='CLIENT_ID',\n",
        "    client_secret='CLIENT_SECRET',\n",
        "    redirect_uri='REDIRECT_URI',\n",
        "    user_agent='USER_AGENT'\n",
        ")\n",
        "\n",
        "# Specify the subreddit you want to extract data from\n",
        "subreddit_name = 'orangetheory'\n",
        "\n",
        "# Get the subreddit object\n",
        "subreddit = reddit.subreddit(subreddit_name)\n",
        "\n",
        "# Extract data from the subreddit\n",
        "posts = subreddit.hot(limit=10)  # Extract top 10 posts\n",
        "\n",
        "# Iterate over the posts and print their titles and scores\n",
        "for post in posts:\n",
        "    print('Title:', post.title)\n",
        "    print('Score:', post.score)\n",
        "    # print('---')\n",
        "\n",
        "# Store the extracted data in a CSV file or database as per your project requirements\n",
        "# You can use Python's CSV module or a database library to accomplish this.\n"
      ],
      "metadata": {
        "colab": {
          "base_uri": "https://localhost:8080/"
        },
        "id": "ycRxUoJqDMKr",
        "outputId": "9fab1e7e-479a-4632-8135-2eade2227f4d"
      },
      "execution_count": 4,
      "outputs": [
        {
          "output_type": "stream",
          "name": "stderr",
          "text": [
            "WARNING:praw:It appears that you are using PRAW in an asynchronous environment.\n",
            "It is strongly recommended to use Async PRAW: https://asyncpraw.readthedocs.io.\n",
            "See https://praw.readthedocs.io/en/latest/getting_started/multiple_instances.html#discord-bots-and-asynchronous-environments for more info.\n",
            "\n"
          ]
        },
        {
          "output_type": "stream",
          "name": "stdout",
          "text": [
            "Title: ** May 2023 Monthly Highlights **\n",
            "Score: 147\n",
            "Title: Daily Workout and General Chat for Wednesday, 5/10/23\n",
            "Score: 72\n",
            "Title: Thursday 11 May 2023 - 2G 60 minutes\n",
            "Score: 123\n",
            "Title: NSV: I can do more than one push up!\n",
            "Score: 24\n",
            "Title: Lift45 TB3 5/8\n",
            "Score: 6\n",
            "Title: Favorite workout song/genre?\n",
            "Score: 14\n",
            "Title: 200M Row Survey Results and Community Analysis\n",
            "Score: 3\n",
            "Title: Speed difference on tread when starting on floor\n",
            "Score: 7\n",
            "Title: Returning after 6 months and getting back to base, etc.\n",
            "Score: 4\n",
            "Title: Tattoos & Workouts\n",
            "Score: 6\n"
          ]
        }
      ]
    },
    {
      "cell_type": "code",
      "source": [
        "!apt-get install git-core\n",
        "!git config --global user.email \"surbhi.katy@gmail.com\"\n",
        "!git config --global user.name \"decisionenabler-sk\"\n"
      ],
      "metadata": {
        "colab": {
          "base_uri": "https://localhost:8080/"
        },
        "id": "qiqALmjoN8Dh",
        "outputId": "49260835-87d7-4a84-d150-8f8162ac8519"
      },
      "execution_count": 5,
      "outputs": [
        {
          "output_type": "stream",
          "name": "stdout",
          "text": [
            "Reading package lists... Done\n",
            "Building dependency tree       \n",
            "Reading state information... Done\n",
            "Note, selecting 'git' instead of 'git-core'\n",
            "git is already the newest version (1:2.25.1-1ubuntu3.11).\n",
            "0 upgraded, 0 newly installed, 0 to remove and 24 not upgraded.\n"
          ]
        }
      ]
    }
  ]
}